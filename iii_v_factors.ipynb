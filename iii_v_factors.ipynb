{
  "nbformat": 4,
  "nbformat_minor": 0,
  "metadata": {
    "colab": {
      "name": "iii_v_factors.ipynb",
      "provenance": [],
      "authorship_tag": "ABX9TyMvhRVdHM0+qXh+zkHn/G0k",
      "include_colab_link": true
    },
    "kernelspec": {
      "name": "python3",
      "display_name": "Python 3"
    },
    "language_info": {
      "name": "python"
    }
  },
  "cells": [
    {
      "cell_type": "markdown",
      "metadata": {
        "id": "view-in-github",
        "colab_type": "text"
      },
      "source": [
        "<a href=\"https://colab.research.google.com/github/YeshayaG/MCON_141/blob/main/iii_v_factors.ipynb\" target=\"_parent\"><img src=\"https://colab.research.google.com/assets/colab-badge.svg\" alt=\"Open In Colab\"/></a>"
      ]
    },
    {
      "cell_type": "markdown",
      "source": [
        "Find the sum of all the multiples of 3 or 5 below 1000."
      ],
      "metadata": {
        "id": "K328iSS3dbkr"
      }
    },
    {
      "cell_type": "code",
      "execution_count": 7,
      "metadata": {
        "id": "4xMH44-kcEUw"
      },
      "outputs": [],
      "source": [
        "def iii_v_factor():\n",
        "  z = 0\n",
        "  for x in range(1,1000):\n",
        "    if x%3 == 0 or x%5 == 0:\n",
        "      z += x\n",
        "  print(z)\n"
      ]
    },
    {
      "cell_type": "code",
      "source": [
        "iii_v_factor()"
      ],
      "metadata": {
        "colab": {
          "base_uri": "https://localhost:8080/"
        },
        "id": "W5iPTfw_c-ZS",
        "outputId": "99e3e555-f5e8-4160-abaa-290ecbd5171e"
      },
      "execution_count": 8,
      "outputs": [
        {
          "output_type": "stream",
          "name": "stdout",
          "text": [
            "233168\n"
          ]
        }
      ]
    }
  ]
}