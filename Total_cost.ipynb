{
  "nbformat": 4,
  "nbformat_minor": 0,
  "metadata": {
    "colab": {
      "name": "Total_cost.ipynb",
      "provenance": [],
      "authorship_tag": "ABX9TyOabwvNiSR5wbE0wy+SF7MI",
      "include_colab_link": true
    },
    "kernelspec": {
      "name": "python3",
      "display_name": "Python 3"
    },
    "language_info": {
      "name": "python"
    }
  },
  "cells": [
    {
      "cell_type": "markdown",
      "metadata": {
        "id": "view-in-github",
        "colab_type": "text"
      },
      "source": [
        "<a href=\"https://colab.research.google.com/github/YeshayaG/MCON_141/blob/main/Total_cost.ipynb\" target=\"_parent\"><img src=\"https://colab.research.google.com/assets/colab-badge.svg\" alt=\"Open In Colab\"/></a>"
      ]
    },
    {
      "cell_type": "code",
      "execution_count": 4,
      "metadata": {
        "id": "vL8UKAL-HlQB"
      },
      "outputs": [],
      "source": [
        "#use this function to calculate the total cost of your item.\n",
        "# c = the price of the item\n",
        "# p_off = the percent off you have\n",
        "# tax = the percent tax you must pay \n",
        "def item_cost(c,p_off,tax):\n",
        "  cost = c*(1-p_off)+ c*(1-p_off)*tax\n",
        "  print(cost)\n"
      ]
    },
    {
      "cell_type": "code",
      "source": [
        "item_cost(100,.20,.08)"
      ],
      "metadata": {
        "colab": {
          "base_uri": "https://localhost:8080/"
        },
        "id": "tsfDiqXLJEl8",
        "outputId": "d87bc5a1-2489-4d55-c077-990bba7db4e1"
      },
      "execution_count": 5,
      "outputs": [
        {
          "output_type": "stream",
          "name": "stdout",
          "text": [
            "86.4\n"
          ]
        }
      ]
    }
  ]
}