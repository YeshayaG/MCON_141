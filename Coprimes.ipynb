{
  "nbformat": 4,
  "nbformat_minor": 0,
  "metadata": {
    "colab": {
      "name": "Coprimes.ipynb",
      "provenance": [],
      "authorship_tag": "ABX9TyM8189nH27eSAFdHgHoYwyI",
      "include_colab_link": true
    },
    "kernelspec": {
      "name": "python3",
      "display_name": "Python 3"
    },
    "language_info": {
      "name": "python"
    }
  },
  "cells": [
    {
      "cell_type": "markdown",
      "metadata": {
        "id": "view-in-github",
        "colab_type": "text"
      },
      "source": [
        "<a href=\"https://colab.research.google.com/github/YeshayaG/MCON_141/blob/main/Coprimes.ipynb\" target=\"_parent\"><img src=\"https://colab.research.google.com/assets/colab-badge.svg\" alt=\"Open In Colab\"/></a>"
      ]
    },
    {
      "cell_type": "code",
      "execution_count": 73,
      "metadata": {
        "id": "F_2QmtyPfP9h"
      },
      "outputs": [],
      "source": [
        "#this function will output all the numbers below x that are coprime\n",
        "#with x \n",
        "def coprime(x,y):\n",
        "  for j in range(2,min([x,y])+1):\n",
        "    if x%j == 0 and y%j == 0:\n",
        "      return False\n",
        "  return True\n",
        "\n",
        "def coprimes(x):\n",
        "  for i in range(2,x):\n",
        "    if coprime(i,x):\n",
        "      print(i)\n"
      ]
    },
    {
      "cell_type": "code",
      "source": [
        "coprime(9,25)"
      ],
      "metadata": {
        "colab": {
          "base_uri": "https://localhost:8080/"
        },
        "id": "6ypUSNiEkeOy",
        "outputId": "d88929bf-b181-4eb0-b1d3-59fa340570f0"
      },
      "execution_count": 75,
      "outputs": [
        {
          "output_type": "execute_result",
          "data": {
            "text/plain": [
              "True"
            ]
          },
          "metadata": {},
          "execution_count": 75
        }
      ]
    },
    {
      "cell_type": "code",
      "source": [
        "coprimes(100)"
      ],
      "metadata": {
        "colab": {
          "base_uri": "https://localhost:8080/"
        },
        "id": "OtS2bGSbjSvb",
        "outputId": "cadbfe85-87db-433d-83cd-d60524ae5c53"
      },
      "execution_count": 74,
      "outputs": [
        {
          "output_type": "stream",
          "name": "stdout",
          "text": [
            "3\n",
            "7\n",
            "9\n",
            "11\n",
            "13\n",
            "17\n",
            "19\n",
            "21\n",
            "23\n",
            "27\n",
            "29\n",
            "31\n",
            "33\n",
            "37\n",
            "39\n",
            "41\n",
            "43\n",
            "47\n",
            "49\n",
            "51\n",
            "53\n",
            "57\n",
            "59\n",
            "61\n",
            "63\n",
            "67\n",
            "69\n",
            "71\n",
            "73\n",
            "77\n",
            "79\n",
            "81\n",
            "83\n",
            "87\n",
            "89\n",
            "91\n",
            "93\n",
            "97\n",
            "99\n"
          ]
        }
      ]
    }
  ]
}