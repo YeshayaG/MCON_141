{
  "nbformat": 4,
  "nbformat_minor": 0,
  "metadata": {
    "colab": {
      "name": "primes_up_to.ipynb",
      "provenance": [],
      "authorship_tag": "ABX9TyMB/s9/M5hFfOhUt/9oxG14",
      "include_colab_link": true
    },
    "kernelspec": {
      "name": "python3",
      "display_name": "Python 3"
    },
    "language_info": {
      "name": "python"
    }
  },
  "cells": [
    {
      "cell_type": "markdown",
      "metadata": {
        "id": "view-in-github",
        "colab_type": "text"
      },
      "source": [
        "<a href=\"https://colab.research.google.com/github/YeshayaG/MCON_141/blob/main/primes_up_to.ipynb\" target=\"_parent\"><img src=\"https://colab.research.google.com/assets/colab-badge.svg\" alt=\"Open In Colab\"/></a>"
      ]
    },
    {
      "cell_type": "code",
      "execution_count": 4,
      "metadata": {
        "id": "4XewRdTVZ7cC"
      },
      "outputs": [],
      "source": [
        "def primes_up_to(x):\n",
        "  z = []\n",
        "  for i in range(2,x+1):\n",
        "    if is_prime(i):\n",
        "      z.append(i)\n",
        "  return z\n",
        "\n",
        "\n",
        "def is_prime(x):\n",
        "  for i in range(2,x):\n",
        "    if x%i == 0:\n",
        "      return False\n",
        "  return True"
      ]
    },
    {
      "cell_type": "code",
      "source": [
        "primes_up_to(50)"
      ],
      "metadata": {
        "colab": {
          "base_uri": "https://localhost:8080/"
        },
        "id": "iRVnt-5Uatn6",
        "outputId": "cd1928af-39dc-4c66-a035-1767e66ddf24"
      },
      "execution_count": 7,
      "outputs": [
        {
          "output_type": "execute_result",
          "data": {
            "text/plain": [
              "[2, 3, 5, 7, 11, 13, 17, 19, 23, 29, 31, 37, 41, 43, 47]"
            ]
          },
          "metadata": {},
          "execution_count": 7
        }
      ]
    }
  ]
}