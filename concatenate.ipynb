{
  "nbformat": 4,
  "nbformat_minor": 0,
  "metadata": {
    "colab": {
      "name": "concatenate.ipynb",
      "provenance": [],
      "authorship_tag": "ABX9TyOWQgMm7I6d/s+CsCc9iave",
      "include_colab_link": true
    },
    "kernelspec": {
      "name": "python3",
      "display_name": "Python 3"
    },
    "language_info": {
      "name": "python"
    }
  },
  "cells": [
    {
      "cell_type": "markdown",
      "metadata": {
        "id": "view-in-github",
        "colab_type": "text"
      },
      "source": [
        "<a href=\"https://colab.research.google.com/github/YeshayaG/MCON_141/blob/main/concatenate.ipynb\" target=\"_parent\"><img src=\"https://colab.research.google.com/assets/colab-badge.svg\" alt=\"Open In Colab\"/></a>"
      ]
    },
    {
      "cell_type": "markdown",
      "source": [
        "this function that takes in two lists and concatenates the numbers in those lists. For instance, if we have [1 2 3] and [7 8 9],it returns[17 28 39]."
      ],
      "metadata": {
        "id": "GCL1BkHdX3Gq"
      }
    },
    {
      "cell_type": "code",
      "execution_count": 5,
      "metadata": {
        "id": "vxWvxZDIXwrh"
      },
      "outputs": [],
      "source": [
        "def concatenate(x,y):\n",
        "  if len(x) != len(y):\n",
        "    print(\"error\")\n",
        "    return\n",
        "  z = []\n",
        "  for i in range(len(x)):\n",
        "    z.append(int(str(x[i])+str(y[i])))\n",
        "  return z\n",
        "\n",
        "\n",
        "  \n"
      ]
    },
    {
      "cell_type": "code",
      "source": [
        "x = [1,2,3,5,6]\n",
        "y = [4,2,4,1,6]\n",
        "concatenate(x,y)"
      ],
      "metadata": {
        "colab": {
          "base_uri": "https://localhost:8080/"
        },
        "id": "Iuuptc4aZOse",
        "outputId": "0b7f5701-e8b7-4c97-dd37-d8eb6d49b7cc"
      },
      "execution_count": 6,
      "outputs": [
        {
          "output_type": "execute_result",
          "data": {
            "text/plain": [
              "[14, 22, 34, 51, 66]"
            ]
          },
          "metadata": {},
          "execution_count": 6
        }
      ]
    }
  ]
}