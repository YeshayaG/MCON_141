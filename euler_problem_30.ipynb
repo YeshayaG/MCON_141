{
  "nbformat": 4,
  "nbformat_minor": 0,
  "metadata": {
    "colab": {
      "name": "euler_problem_30.ipynb",
      "provenance": [],
      "authorship_tag": "ABX9TyOUqMyK3I1CiaBKpsIoHFE4",
      "include_colab_link": true
    },
    "kernelspec": {
      "name": "python3",
      "display_name": "Python 3"
    },
    "language_info": {
      "name": "python"
    }
  },
  "cells": [
    {
      "cell_type": "markdown",
      "metadata": {
        "id": "view-in-github",
        "colab_type": "text"
      },
      "source": [
        "<a href=\"https://colab.research.google.com/github/YeshayaG/MCON_141/blob/main/euler_problem_30.ipynb\" target=\"_parent\"><img src=\"https://colab.research.google.com/assets/colab-badge.svg\" alt=\"Open In Colab\"/></a>"
      ]
    },
    {
      "cell_type": "code",
      "execution_count": 17,
      "metadata": {
        "id": "kNRDSuq2gj4C"
      },
      "outputs": [],
      "source": [
        "def euler_problem_30():\n",
        "  x = 0\n",
        "  for i in range(2,500000):\n",
        "    if sum_5th_power(i) == i:\n",
        "      x += i\n",
        "  return x\n",
        "def sum_5th_power(y):\n",
        "  y = str(y)\n",
        "  t = 0\n",
        "  for i in y:\n",
        "    t += int(i)**5\n",
        "  return t\n"
      ]
    },
    {
      "cell_type": "code",
      "source": [
        "euler_problem_30()"
      ],
      "metadata": {
        "colab": {
          "base_uri": "https://localhost:8080/"
        },
        "id": "nCHgnY_4j3pq",
        "outputId": "6138e698-9bc0-436e-c1c8-59296b13cb17"
      },
      "execution_count": 18,
      "outputs": [
        {
          "output_type": "execute_result",
          "data": {
            "text/plain": [
              "443839"
            ]
          },
          "metadata": {},
          "execution_count": 18
        }
      ]
    }
  ]
}