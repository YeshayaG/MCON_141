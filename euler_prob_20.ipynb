{
  "nbformat": 4,
  "nbformat_minor": 0,
  "metadata": {
    "colab": {
      "name": "euler_prob_20.ipynb",
      "provenance": [],
      "authorship_tag": "ABX9TyPAbEwhuT/YChTXS0pFV60N",
      "include_colab_link": true
    },
    "kernelspec": {
      "name": "python3",
      "display_name": "Python 3"
    },
    "language_info": {
      "name": "python"
    }
  },
  "cells": [
    {
      "cell_type": "markdown",
      "metadata": {
        "id": "view-in-github",
        "colab_type": "text"
      },
      "source": [
        "<a href=\"https://colab.research.google.com/github/YeshayaG/MCON_141/blob/main/euler_prob_20.ipynb\" target=\"_parent\"><img src=\"https://colab.research.google.com/assets/colab-badge.svg\" alt=\"Open In Colab\"/></a>"
      ]
    },
    {
      "cell_type": "markdown",
      "source": [
        "https://projecteuler.net/problem=20"
      ],
      "metadata": {
        "id": "7ULdP0pXnbwy"
      }
    },
    {
      "cell_type": "code",
      "execution_count": 23,
      "metadata": {
        "id": "6KzO7Nx3lsF1"
      },
      "outputs": [],
      "source": [
        "def fac_sum():\n",
        "  z = str(my_fac(100))\n",
        "  y = 0\n",
        "  for i in z:\n",
        "    y += int(i)\n",
        "  return y\n",
        "\n",
        "\n",
        "def my_fac(x):\n",
        "  if x < 1:\n",
        "    print(\"enter a valid number\")\n",
        "  elif x == 1:\n",
        "    return 1\n",
        "  return x*my_fac(x-1)"
      ]
    },
    {
      "cell_type": "code",
      "source": [
        "fac_sum()"
      ],
      "metadata": {
        "colab": {
          "base_uri": "https://localhost:8080/"
        },
        "id": "LEygB6nQmb4h",
        "outputId": "96924c08-c41c-479a-90f7-5c5fef92bfa8"
      },
      "execution_count": 24,
      "outputs": [
        {
          "output_type": "execute_result",
          "data": {
            "text/plain": [
              "648"
            ]
          },
          "metadata": {},
          "execution_count": 24
        }
      ]
    }
  ]
}