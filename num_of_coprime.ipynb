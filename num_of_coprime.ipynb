{
  "nbformat": 4,
  "nbformat_minor": 0,
  "metadata": {
    "colab": {
      "name": "num_of_coprime.ipynb",
      "provenance": [],
      "authorship_tag": "ABX9TyPPrGoYSgFXhNvQFwx5bQQk",
      "include_colab_link": true
    },
    "kernelspec": {
      "name": "python3",
      "display_name": "Python 3"
    },
    "language_info": {
      "name": "python"
    }
  },
  "cells": [
    {
      "cell_type": "markdown",
      "metadata": {
        "id": "view-in-github",
        "colab_type": "text"
      },
      "source": [
        "<a href=\"https://colab.research.google.com/github/YeshayaG/MCON_141/blob/main/num_of_coprime.ipynb\" target=\"_parent\"><img src=\"https://colab.research.google.com/assets/colab-badge.svg\" alt=\"Open In Colab\"/></a>"
      ]
    },
    {
      "cell_type": "code",
      "execution_count": 2,
      "metadata": {
        "id": "4UxD46nApeAl"
      },
      "outputs": [],
      "source": [
        "def coprime(x,y):\n",
        "  for j in range(2,min([x,y])+1):\n",
        "    if x%j == 0 and y%j == 0:\n",
        "      return False\n",
        "  return True\n",
        "\n",
        "def num_of_coprime(x):\n",
        "  j = 0\n",
        "  for i in range(2,x):\n",
        "    if coprime(i,x):\n",
        "      j+=1\n",
        "  return j\n"
      ]
    },
    {
      "cell_type": "code",
      "source": [
        "num_of_coprime(25)"
      ],
      "metadata": {
        "colab": {
          "base_uri": "https://localhost:8080/"
        },
        "id": "ylMVHOEYp1n-",
        "outputId": "8e600a49-476a-4612-874f-0e5f59d0d9c0"
      },
      "execution_count": 6,
      "outputs": [
        {
          "output_type": "execute_result",
          "data": {
            "text/plain": [
              "19"
            ]
          },
          "metadata": {},
          "execution_count": 6
        }
      ]
    }
  ]
}