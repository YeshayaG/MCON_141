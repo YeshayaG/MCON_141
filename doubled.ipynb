{
  "nbformat": 4,
  "nbformat_minor": 0,
  "metadata": {
    "colab": {
      "name": "doubled.ipynb",
      "provenance": [],
      "authorship_tag": "ABX9TyPS5cXD9RP+G2ENMbnW8+lL",
      "include_colab_link": true
    },
    "kernelspec": {
      "name": "python3",
      "display_name": "Python 3"
    },
    "language_info": {
      "name": "python"
    }
  },
  "cells": [
    {
      "cell_type": "markdown",
      "metadata": {
        "id": "view-in-github",
        "colab_type": "text"
      },
      "source": [
        "<a href=\"https://colab.research.google.com/github/YeshayaG/MCON_141/blob/main/doubled.ipynb\" target=\"_parent\"><img src=\"https://colab.research.google.com/assets/colab-badge.svg\" alt=\"Open In Colab\"/></a>"
      ]
    },
    {
      "cell_type": "markdown",
      "source": [
        "This function asks the user to pick 1 or 2. If the user chooses option one it will return the list doubled such as [1 2 3] becoming [1 2 3 1 2 3], if the user chooses option two then it return the list such as [1 2 3] becoming [2 4 6]."
      ],
      "metadata": {
        "id": "DyaQ-4IzVRw5"
      }
    },
    {
      "cell_type": "code",
      "execution_count": 12,
      "metadata": {
        "id": "-xbwNW1-Umvb"
      },
      "outputs": [],
      "source": [
        "def doubled(x):\n",
        "  y = input(\"pick 1 or 2\") \n",
        "  if y == \"1\":\n",
        "    for i in range(len(x)):\n",
        "      x.append(x[i])\n",
        "    return x\n",
        "  elif y == \"2\":\n",
        "    z = []\n",
        "    for i in range(len(x)):\n",
        "      z.append(2*x[i])\n",
        "    return z\n",
        "\n"
      ]
    },
    {
      "cell_type": "code",
      "source": [
        "x = [1,2,3,5]\n",
        "doubled(x)"
      ],
      "metadata": {
        "colab": {
          "base_uri": "https://localhost:8080/"
        },
        "id": "sDssDo6hWMOL",
        "outputId": "2acd35a0-4d8f-4067-8c2b-ab5d1ce8076c"
      },
      "execution_count": 14,
      "outputs": [
        {
          "name": "stdout",
          "output_type": "stream",
          "text": [
            "pick 1 or 22\n"
          ]
        },
        {
          "output_type": "execute_result",
          "data": {
            "text/plain": [
              "[2, 4, 6, 10]"
            ]
          },
          "metadata": {},
          "execution_count": 14
        }
      ]
    },
    {
      "cell_type": "code",
      "source": [
        "x = [1,2,3,5]\n",
        "doubled(x)"
      ],
      "metadata": {
        "colab": {
          "base_uri": "https://localhost:8080/"
        },
        "id": "UwlMMt3hXehK",
        "outputId": "33bcdac8-a6a4-439b-8488-80e606d94628"
      },
      "execution_count": 15,
      "outputs": [
        {
          "name": "stdout",
          "output_type": "stream",
          "text": [
            "pick 1 or 21\n"
          ]
        },
        {
          "output_type": "execute_result",
          "data": {
            "text/plain": [
              "[1, 2, 3, 5, 1, 2, 3, 5]"
            ]
          },
          "metadata": {},
          "execution_count": 15
        }
      ]
    }
  ]
}