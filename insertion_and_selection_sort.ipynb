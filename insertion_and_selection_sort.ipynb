{
  "nbformat": 4,
  "nbformat_minor": 0,
  "metadata": {
    "colab": {
      "name": "insertion_and_selection_sort.ipynb",
      "provenance": [],
      "authorship_tag": "ABX9TyPfdv6fY4Vv2KHE4/NM7QLg",
      "include_colab_link": true
    },
    "kernelspec": {
      "name": "python3",
      "display_name": "Python 3"
    },
    "language_info": {
      "name": "python"
    }
  },
  "cells": [
    {
      "cell_type": "markdown",
      "metadata": {
        "id": "view-in-github",
        "colab_type": "text"
      },
      "source": [
        "<a href=\"https://colab.research.google.com/github/YeshayaG/MCON_141/blob/main/insertion_and_selection_sort.ipynb\" target=\"_parent\"><img src=\"https://colab.research.google.com/assets/colab-badge.svg\" alt=\"Open In Colab\"/></a>"
      ]
    },
    {
      "cell_type": "code",
      "execution_count": 1,
      "metadata": {
        "id": "OUFEeB2XoP5g"
      },
      "outputs": [],
      "source": [
        "def insertion_sort(x):\n",
        "  #loop over unsorted part of list\n",
        "  for i in range(1,len(x)):\n",
        "    y = i\n",
        "    #find positon to put ith element\n",
        "    while y > 0 and x[y-1] > x[y]:\n",
        "      swap(x,y,y-1)\n",
        "      y = y-1\n",
        "  return x\n",
        "def swap(x,y,z):\n",
        "  v = x[y]\n",
        "  x[y] = x[z]\n",
        "  x[z] = v\n"
      ]
    },
    {
      "cell_type": "code",
      "source": [
        "x = [3,1,5,2,6,8]\n",
        "insertion_sort(x)"
      ],
      "metadata": {
        "colab": {
          "base_uri": "https://localhost:8080/"
        },
        "id": "wMTfziJjqryq",
        "outputId": "6c6d9dfe-20f9-48f8-aa44-abce85a7b19e"
      },
      "execution_count": 2,
      "outputs": [
        {
          "output_type": "execute_result",
          "data": {
            "text/plain": [
              "[1, 2, 3, 5, 6, 8]"
            ]
          },
          "metadata": {},
          "execution_count": 2
        }
      ]
    },
    {
      "cell_type": "code",
      "source": [
        "def selection_sort(x):\n",
        "  #loop over all positions in array\n",
        "  for i in range(0,len(x)):\n",
        "    #min is set as the current position \n",
        "    min = i\n",
        "    #loops over the rest of the array to find the min\n",
        "    for j in range(i,len(x)):\n",
        "      if x[j] < x[min]:\n",
        "        min = j\n",
        "    #if we find a number smaller than x[i] we swap it\n",
        "    if min != i:\n",
        "      swap(x,i,min)\n",
        "  return x"
      ],
      "metadata": {
        "id": "rbQuwbXxro_A"
      },
      "execution_count": 32,
      "outputs": []
    },
    {
      "cell_type": "code",
      "source": [
        "x = [3,1,5,0,2,6,8,5]\n",
        "selection_sort(x)"
      ],
      "metadata": {
        "colab": {
          "base_uri": "https://localhost:8080/"
        },
        "id": "gEGFNzuNtAbY",
        "outputId": "9435c34c-12af-4fac-a6f2-562f30507ace"
      },
      "execution_count": 34,
      "outputs": [
        {
          "output_type": "execute_result",
          "data": {
            "text/plain": [
              "[0, 1, 2, 3, 5, 5, 6, 8]"
            ]
          },
          "metadata": {},
          "execution_count": 34
        }
      ]
    }
  ]
}