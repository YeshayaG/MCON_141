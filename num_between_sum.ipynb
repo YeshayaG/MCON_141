{
  "nbformat": 4,
  "nbformat_minor": 0,
  "metadata": {
    "colab": {
      "name": "num_between_sum.ipynb",
      "provenance": [],
      "authorship_tag": "ABX9TyPykV4BWW37kwRBvQIgftiT",
      "include_colab_link": true
    },
    "kernelspec": {
      "name": "python3",
      "display_name": "Python 3"
    },
    "language_info": {
      "name": "python"
    }
  },
  "cells": [
    {
      "cell_type": "markdown",
      "metadata": {
        "id": "view-in-github",
        "colab_type": "text"
      },
      "source": [
        "<a href=\"https://colab.research.google.com/github/YeshayaG/MCON_141/blob/main/num_between_sum.ipynb\" target=\"_parent\"><img src=\"https://colab.research.google.com/assets/colab-badge.svg\" alt=\"Open In Colab\"/></a>"
      ]
    },
    {
      "cell_type": "code",
      "execution_count": 4,
      "metadata": {
        "id": "gyHxI9L719uV"
      },
      "outputs": [],
      "source": [
        "#use this function to return the sum from number 1 to number 2\n",
        "def num_sum(x,y):\n",
        "  ints = []\n",
        "  for num in range(x,y+1):\n",
        "    ints.append(num)\n",
        "  p = sum(ints)\n",
        "  print(p)\n"
      ]
    },
    {
      "cell_type": "code",
      "source": [
        "num_sum(4,71)"
      ],
      "metadata": {
        "colab": {
          "base_uri": "https://localhost:8080/"
        },
        "id": "R8G58Byk30Oj",
        "outputId": "ea3071a8-7d9a-4ca8-de23-af49a2dd9356"
      },
      "execution_count": 5,
      "outputs": [
        {
          "output_type": "stream",
          "name": "stdout",
          "text": [
            "2550\n"
          ]
        }
      ]
    },
    {
      "cell_type": "code",
      "source": [
        "#use this function to return the sum from number 1 to number 2\n",
        "def num_sum2(x,y):\n",
        "  t = 0\n",
        "  for num in range(x,y+1):\n",
        "      t = num + t\n",
        "  print(t)\n"
      ],
      "metadata": {
        "id": "cZK746Nz57mt"
      },
      "execution_count": 1,
      "outputs": []
    },
    {
      "cell_type": "code",
      "source": [
        "num_sum2(4,71)"
      ],
      "metadata": {
        "colab": {
          "base_uri": "https://localhost:8080/"
        },
        "id": "XS-KMrG-7M0M",
        "outputId": "e40ffe59-e37b-4ab7-a8b9-91e7d347b9bf"
      },
      "execution_count": 6,
      "outputs": [
        {
          "output_type": "stream",
          "name": "stdout",
          "text": [
            "2550\n"
          ]
        }
      ]
    }
  ]
}