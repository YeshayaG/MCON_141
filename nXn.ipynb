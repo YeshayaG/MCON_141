{
  "nbformat": 4,
  "nbformat_minor": 0,
  "metadata": {
    "colab": {
      "name": "nXn.ipynb",
      "provenance": [],
      "authorship_tag": "ABX9TyMpKc3UnwW9OumKv4rlHVps",
      "include_colab_link": true
    },
    "kernelspec": {
      "name": "python3",
      "display_name": "Python 3"
    },
    "language_info": {
      "name": "python"
    }
  },
  "cells": [
    {
      "cell_type": "markdown",
      "metadata": {
        "id": "view-in-github",
        "colab_type": "text"
      },
      "source": [
        "<a href=\"https://colab.research.google.com/github/YeshayaG/MCON_141/blob/main/nXn.ipynb\" target=\"_parent\"><img src=\"https://colab.research.google.com/assets/colab-badge.svg\" alt=\"Open In Colab\"/></a>"
      ]
    },
    {
      "cell_type": "code",
      "execution_count": 8,
      "metadata": {
        "id": "MTJItis_ENRx"
      },
      "outputs": [],
      "source": [
        "#use this function to output a nXn matrix with consecutive numbers \n",
        "#in each spot\n",
        "def nXn(n):\n",
        "  array = []\n",
        "  sum = 0\n",
        "  for i in range (n):\n",
        "    array.append([])\n",
        "    for j in range (n):\n",
        "      sum += 1\n",
        "      array[i].append(sum)\n",
        "  return array\n"
      ]
    },
    {
      "cell_type": "code",
      "source": [
        "nXn(5)"
      ],
      "metadata": {
        "colab": {
          "base_uri": "https://localhost:8080/"
        },
        "id": "7NjTqz_SGh3D",
        "outputId": "571aa0c6-7531-4c64-9a85-e9f9139493ba"
      },
      "execution_count": 13,
      "outputs": [
        {
          "output_type": "execute_result",
          "data": {
            "text/plain": [
              "[[1, 2, 3, 4, 5],\n",
              " [6, 7, 8, 9, 10],\n",
              " [11, 12, 13, 14, 15],\n",
              " [16, 17, 18, 19, 20],\n",
              " [21, 22, 23, 24, 25]]"
            ]
          },
          "metadata": {},
          "execution_count": 13
        }
      ]
    }
  ]
}