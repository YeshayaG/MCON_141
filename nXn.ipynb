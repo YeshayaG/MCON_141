{
  "nbformat": 4,
  "nbformat_minor": 0,
  "metadata": {
    "colab": {
      "name": "nXn.ipynb",
      "provenance": [],
      "authorship_tag": "ABX9TyO0b0Hk3lNX0kdt7bfU6B1G",
      "include_colab_link": true
    },
    "kernelspec": {
      "name": "python3",
      "display_name": "Python 3"
    },
    "language_info": {
      "name": "python"
    }
  },
  "cells": [
    {
      "cell_type": "markdown",
      "metadata": {
        "id": "view-in-github",
        "colab_type": "text"
      },
      "source": [
        "<a href=\"https://colab.research.google.com/github/YeshayaG/MCON_141/blob/main/nXn.ipynb\" target=\"_parent\"><img src=\"https://colab.research.google.com/assets/colab-badge.svg\" alt=\"Open In Colab\"/></a>"
      ]
    },
    {
      "cell_type": "code",
      "execution_count": 7,
      "metadata": {
        "colab": {
          "base_uri": "https://localhost:8080/"
        },
        "id": "6YYH9dpC3TSI",
        "outputId": "3fd83fd7-e5ba-4437-983b-02c001818c20"
      },
      "outputs": [
        {
          "output_type": "stream",
          "name": "stdout",
          "text": [
            "[1, 2, 3, 4]\n",
            "[5, 6, 7, 8]\n",
            "[9, 10, 11, 12]\n",
            "[13, 14, 15, 16]\n"
          ]
        }
      ],
      "source": [
        "#use this function to output a nXn matrix with consecutive numbers \n",
        "#in each spot\n",
        "def main():\n",
        "  x = nXn(4)\n",
        "  for  i in x:\n",
        "    print(i)\n",
        "\n",
        "\n",
        "def nXn(n):\n",
        "  array = []\n",
        "  sum = 0\n",
        "  for i in range (n):\n",
        "    array.append([])\n",
        "    for j in range (n):\n",
        "      sum += 1\n",
        "      array[i].append(sum)\n",
        "  return array\n",
        "\n",
        "\n",
        "main()"
      ]
    }
  ]
}