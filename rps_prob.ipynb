{
  "nbformat": 4,
  "nbformat_minor": 0,
  "metadata": {
    "colab": {
      "name": "rps_prob.ipynb",
      "provenance": [],
      "authorship_tag": "ABX9TyOLqaLeeH6+cMC8rv7LeTre",
      "include_colab_link": true
    },
    "kernelspec": {
      "name": "python3",
      "display_name": "Python 3"
    },
    "language_info": {
      "name": "python"
    }
  },
  "cells": [
    {
      "cell_type": "markdown",
      "metadata": {
        "id": "view-in-github",
        "colab_type": "text"
      },
      "source": [
        "<a href=\"https://colab.research.google.com/github/YeshayaG/MCON_141/blob/main/rps_prob.ipynb\" target=\"_parent\"><img src=\"https://colab.research.google.com/assets/colab-badge.svg\" alt=\"Open In Colab\"/></a>"
      ]
    },
    {
      "cell_type": "code",
      "execution_count": 13,
      "metadata": {
        "id": "DLFIchQpDSM-"
      },
      "outputs": [],
      "source": [
        "#this function will tell you the prob of winning rps using either \n",
        "#rock, paper or scissors\n",
        "import numpy as np\n",
        "def rps_prob():\n",
        "  x = input(\"Enter rock, paper or scissors\")\n",
        "  y = 0\n",
        "  for i in range(10000):\n",
        "    player_2 = np.random.randint(0,high=3)\n",
        "    if player_2 == 0:\n",
        "      y += 1\n",
        "  print(\"the prob of \"+x+\" is \"+ str(y/10000))\n"
      ]
    },
    {
      "cell_type": "code",
      "source": [
        "rps_prob()"
      ],
      "metadata": {
        "colab": {
          "base_uri": "https://localhost:8080/"
        },
        "id": "zpK6RNM3G5SC",
        "outputId": "fd883cf9-9cf4-4ab1-dd29-b6298cb08cd6"
      },
      "execution_count": 16,
      "outputs": [
        {
          "output_type": "stream",
          "name": "stdout",
          "text": [
            "Enter rock, paper or scissorsrock\n",
            "the prob of rock is 0.3246\n"
          ]
        }
      ]
    }
  ]
}