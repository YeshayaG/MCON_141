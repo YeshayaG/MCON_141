{
  "nbformat": 4,
  "nbformat_minor": 0,
  "metadata": {
    "colab": {
      "name": "Twin_primes.ipynb",
      "provenance": [],
      "authorship_tag": "ABX9TyNwXupj0aTX2uwVZROeR+QJ",
      "include_colab_link": true
    },
    "kernelspec": {
      "name": "python3",
      "display_name": "Python 3"
    },
    "language_info": {
      "name": "python"
    }
  },
  "cells": [
    {
      "cell_type": "markdown",
      "metadata": {
        "id": "view-in-github",
        "colab_type": "text"
      },
      "source": [
        "<a href=\"https://colab.research.google.com/github/YeshayaG/MCON_141/blob/main/Twin_primes.ipynb\" target=\"_parent\"><img src=\"https://colab.research.google.com/assets/colab-badge.svg\" alt=\"Open In Colab\"/></a>"
      ]
    },
    {
      "cell_type": "code",
      "execution_count": 18,
      "metadata": {
        "id": "4FNyJJT9qwgS"
      },
      "outputs": [],
      "source": [
        "#this function will output all the numbers below x that are twin primes\n",
        "def is_prime(x):\n",
        "  for i in range(2,x):\n",
        "    if x%i == 0:\n",
        "      return False\n",
        "  return True\n",
        "\n",
        "def twin_primes(x):\n",
        "  primes = [2,3]\n",
        "  twin_primes = []\n",
        "  for i in range(4,x):\n",
        "    if is_prime(i):\n",
        "      primes.append(i)\n",
        "      if i - primes[-2] == 2:\n",
        "        twin_primes.append(primes[-2])\n",
        "        twin_primes.append(i)\n",
        "  return set(twin_primes)"
      ]
    },
    {
      "cell_type": "code",
      "source": [
        "twin_primes(100)"
      ],
      "metadata": {
        "colab": {
          "base_uri": "https://localhost:8080/"
        },
        "id": "wU9OUrlCr47B",
        "outputId": "0ddf4b83-66ae-46bb-b683-eb971dd19f71"
      },
      "execution_count": 19,
      "outputs": [
        {
          "output_type": "execute_result",
          "data": {
            "text/plain": [
              "{3, 5, 7, 11, 13, 17, 19, 29, 31, 41, 43, 59, 61, 71, 73}"
            ]
          },
          "metadata": {},
          "execution_count": 19
        }
      ]
    }
  ]
}