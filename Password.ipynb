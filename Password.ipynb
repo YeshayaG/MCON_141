{
  "nbformat": 4,
  "nbformat_minor": 0,
  "metadata": {
    "colab": {
      "name": "Password.ipynb",
      "provenance": [],
      "authorship_tag": "ABX9TyOMv1II5SMrZmrHLLupYpm4",
      "include_colab_link": true
    },
    "kernelspec": {
      "name": "python3",
      "display_name": "Python 3"
    },
    "language_info": {
      "name": "python"
    }
  },
  "cells": [
    {
      "cell_type": "markdown",
      "metadata": {
        "id": "view-in-github",
        "colab_type": "text"
      },
      "source": [
        "<a href=\"https://colab.research.google.com/github/YeshayaG/MCON_141/blob/main/Password.ipynb\" target=\"_parent\"><img src=\"https://colab.research.google.com/assets/colab-badge.svg\" alt=\"Open In Colab\"/></a>"
      ]
    },
    {
      "cell_type": "code",
      "execution_count": 1,
      "metadata": {
        "colab": {
          "base_uri": "https://localhost:8080/"
        },
        "id": "U81wg5qIpfkW",
        "outputId": "ad765695-03d1-4b87-cc13-417a9ce62b6d"
      },
      "outputs": [
        {
          "output_type": "stream",
          "name": "stdout",
          "text": [
            "Please create a valid 8 character password with an uppercase, lowercase, a number, and a special character.shaya\n",
            "No uppercase character detected.\n",
            "No numbers detected.\n",
            "No special characters detected.\n",
            "Password must be at least 8 characters long.\n",
            "Please create a valid 8 character password with an uppercase, lowercase, a number, and a special character.Shayag^98\n",
            "Thank you.\n"
          ]
        }
      ],
      "source": [
        "#This program checks if user entered a valid password\n",
        "y = False\n",
        "upper = False\n",
        "#upper is a var to check if there is an uppercase\n",
        "lower = False\n",
        "#lower is a var to check if there is an lowercase\n",
        "num = False\n",
        "#num is a var to check if there is a number\n",
        "special = False\n",
        "#special is a var to check if there is a special charicter\n",
        "while y == False:\n",
        "    password = input(\"Please create a valid 8 character password with an uppercase, lowercase, a number, and a special character.\")\n",
        "    for char in password:\n",
        "        if char.isupper():\n",
        "            upper = True\n",
        "        elif char.islower():\n",
        "            lower = True\n",
        "        elif char.isdigit():\n",
        "            num = True\n",
        "        elif not char.isalpha():\n",
        "            special = True\n",
        "\n",
        "    if not upper:\n",
        "        print(\"No uppercase character detected.\")\n",
        "\n",
        "    if not lower:\n",
        "        print(\"No lowercase character detected.\")\n",
        "\n",
        "    if not num:\n",
        "        print(\"No numbers detected.\")\n",
        "\n",
        "    if not special:\n",
        "        print(\"No special characters detected.\")\n",
        "\n",
        "    if not (len(password) >= 8):\n",
        "        print(\"Password must be at least 8 characters long.\")\n",
        "\n",
        "    if upper and lower and num and special and len(password) >= 8:\n",
        "        print(\"Thank you.\")\n",
        "        y = True"
      ]
    }
  ]
}