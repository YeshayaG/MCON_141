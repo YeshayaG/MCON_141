{
  "nbformat": 4,
  "nbformat_minor": 0,
  "metadata": {
    "colab": {
      "name": "even_fib_sum_500.ipynb",
      "provenance": [],
      "authorship_tag": "ABX9TyMBFSkDnCkO4vHNU98pgFfn",
      "include_colab_link": true
    },
    "kernelspec": {
      "name": "python3",
      "display_name": "Python 3"
    },
    "language_info": {
      "name": "python"
    }
  },
  "cells": [
    {
      "cell_type": "markdown",
      "metadata": {
        "id": "view-in-github",
        "colab_type": "text"
      },
      "source": [
        "<a href=\"https://colab.research.google.com/github/YeshayaG/MCON_141/blob/main/even_fib_sum_500.ipynb\" target=\"_parent\"><img src=\"https://colab.research.google.com/assets/colab-badge.svg\" alt=\"Open In Colab\"/></a>"
      ]
    },
    {
      "cell_type": "code",
      "execution_count": 10,
      "metadata": {
        "id": "joeGYEjaeCUC"
      },
      "outputs": [],
      "source": [
        "# this function will give the sum of the even valued Fibonacci numbers below 500\n",
        "def even_fib_sum_500():\n",
        "  x = [1,1]\n",
        "  y = []\n",
        "  while x[-1]+x[-2] < 500:\n",
        "    x.append(x[-1]+x[-2])\n",
        "  for i in x:\n",
        "    if i%2 == 0:\n",
        "      y.append(i)\n",
        "  return sum(y)"
      ]
    },
    {
      "cell_type": "code",
      "source": [
        "even_fib_sum_500()"
      ],
      "metadata": {
        "colab": {
          "base_uri": "https://localhost:8080/"
        },
        "id": "26pH50sze7SQ",
        "outputId": "bdd462b5-dad4-43b5-be04-574b711746ad"
      },
      "execution_count": 11,
      "outputs": [
        {
          "output_type": "execute_result",
          "data": {
            "text/plain": [
              "188"
            ]
          },
          "metadata": {},
          "execution_count": 11
        }
      ]
    }
  ]
}