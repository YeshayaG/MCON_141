{
  "nbformat": 4,
  "nbformat_minor": 0,
  "metadata": {
    "colab": {
      "name": "Metrics.ipynb",
      "provenance": [],
      "collapsed_sections": [],
      "authorship_tag": "ABX9TyNqPJq4efAplAx8o0hQyVYz",
      "include_colab_link": true
    },
    "kernelspec": {
      "name": "python3",
      "display_name": "Python 3"
    },
    "language_info": {
      "name": "python"
    }
  },
  "cells": [
    {
      "cell_type": "markdown",
      "metadata": {
        "id": "view-in-github",
        "colab_type": "text"
      },
      "source": [
        "<a href=\"https://colab.research.google.com/github/YeshayaG/MCON_141/blob/main/Metrics.ipynb\" target=\"_parent\"><img src=\"https://colab.research.google.com/assets/colab-badge.svg\" alt=\"Open In Colab\"/></a>"
      ]
    },
    {
      "cell_type": "markdown",
      "source": [
        "There are different metrics to eveluate a classifier. \n",
        "\n",
        "accuracy means how many were correct over all cases (true pos plus true neg divided by all cases)\n",
        "\n",
        "precision means the number of positives that are correct. (true pos divided by all pos)\n",
        "\n",
        "recall means the number thats classifed as pos over all pos (true pos divided by true pos plus false neg)\n"
      ],
      "metadata": {
        "id": "dZ9Uh6kEQa3w"
      }
    },
    {
      "cell_type": "markdown",
      "source": [
        "In the case of a pandemic we would want to use recall since we want to know whos positive and we dont care as much if there are false negs.\n",
        "\n",
        "If we are looking to find how accurate something is we would use accuracy since we want to see that the pos and negs are true.\n",
        "\n",
        "\n",
        "\n"
      ],
      "metadata": {
        "id": "8syx8Lz7R5Si"
      }
    },
    {
      "cell_type": "markdown",
      "source": [
        "A nxn matrix that is used to evaluate the accuracy of a classification model, where n is the number of classes. In a basic model it would be a 2x2 matrix with pos and neg as the two col and true and false as the rows."
      ],
      "metadata": {
        "id": "_p1Q8ft_TSvX"
      }
    },
    {
      "cell_type": "code",
      "source": [
        "def accuracy(x,y):\n",
        "  #x rep the predicted values and y are the true values\n",
        "  z = 0\n",
        "  for i in range(x):\n",
        "    if x[i]==y[i]:\n",
        "      z += 1\n",
        "  return z/len(x)\n",
        "\n"
      ],
      "metadata": {
        "id": "hXkjsvy9Unhg"
      },
      "execution_count": null,
      "outputs": []
    },
    {
      "cell_type": "code",
      "source": [
        "def precision(x,y):\n",
        "  z = 0\n",
        "  w = 0\n",
        "  for i in range(x):\n",
        "    #let 1 rep pos in our list\n",
        "    if x[i]==y[i] and x[i]==1:\n",
        "      z += 1\n",
        "    if y[i]==1:\n",
        "      w += 1\n",
        "  return z/w\n",
        "\n"
      ],
      "metadata": {
        "id": "JsYIOuL1Vw0b"
      },
      "execution_count": null,
      "outputs": []
    },
    {
      "cell_type": "code",
      "source": [
        "def recall(x,y):\n",
        "  z = 0 \n",
        "  w = 0\n",
        "  for i in range(x):\n",
        "    if x[i]==y[i] and y[i]==1:\n",
        "      z += 1\n",
        "      w += 1\n",
        "    if x[i]!=y[i] and y[i] == 1:\n",
        "      w += 1\n",
        "  return z/w\n",
        "    \n"
      ],
      "metadata": {
        "id": "U5-HLMhNWpxb"
      },
      "execution_count": null,
      "outputs": []
    },
    {
      "cell_type": "code",
      "source": [
        "def f1(x,y):\n",
        "  (2*precision(x,y)*recall(x,y))/(precision(x,y)+recall(x,y))"
      ],
      "metadata": {
        "id": "RD-L7AZeXu7q"
      },
      "execution_count": null,
      "outputs": []
    },
    {
      "cell_type": "markdown",
      "source": [
        "Say your hypothises is the average hight of a 20 year old male is 5 feet 6 inches. You take a sample set of 100 20 year old males and find the average to be 6 feet and 2 inches. You reject your hypthises because of this result. A type  1 error would be if 5 feet 6 inches is the actual average.\n",
        "\n",
        "Say your hypothises is the average hight of a 20 year old male is 5 feet 6 inches. You take a sample set of 100 20 year old males and find the average to be 5 feet and 5 inches. You confirm your hypothsis because of this conclusion. A type 2 error is when 5 feet 6 inches is not the actual average and you should have rejected it.\n",
        "\n"
      ],
      "metadata": {
        "id": "GgCmIXZEq1fE"
      }
    },
    {
      "cell_type": "markdown",
      "source": [
        "We use train.test, split() function in order to confirm that the model is accurate on data that wasn't used to fit the model in order to accurately evaluate your model."
      ],
      "metadata": {
        "id": "x13WpA5etGPH"
      }
    },
    {
      "cell_type": "markdown",
      "source": [
        "When you are trying to estimate an unknown perameter or model the error could be decomposed into bias and variance. bias is the result of false assumtions and variance is the data's deveation from the mean."
      ],
      "metadata": {
        "id": "14agAz8BhCCw"
      }
    }
  ]
}