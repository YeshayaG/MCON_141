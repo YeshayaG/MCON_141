{
  "nbformat": 4,
  "nbformat_minor": 0,
  "metadata": {
    "colab": {
      "name": "max,min,avg,std.ipynb",
      "provenance": [],
      "authorship_tag": "ABX9TyPK6URQVCalQE5oRZwuHt3t",
      "include_colab_link": true
    },
    "kernelspec": {
      "name": "python3",
      "display_name": "Python 3"
    },
    "language_info": {
      "name": "python"
    }
  },
  "cells": [
    {
      "cell_type": "markdown",
      "metadata": {
        "id": "view-in-github",
        "colab_type": "text"
      },
      "source": [
        "<a href=\"https://colab.research.google.com/github/YeshayaG/MCON_141/blob/main/max%2Cmin%2Cavg%2Cstd.ipynb\" target=\"_parent\"><img src=\"https://colab.research.google.com/assets/colab-badge.svg\" alt=\"Open In Colab\"/></a>"
      ]
    },
    {
      "cell_type": "code",
      "execution_count": 1,
      "metadata": {
        "id": "JWZY7AU6Mvhq"
      },
      "outputs": [],
      "source": [
        "def max(x):\n",
        "  y = x[0]\n",
        "  for i in x:\n",
        "    if i > y:\n",
        "      y = i\n",
        "  return y\n"
      ]
    },
    {
      "cell_type": "code",
      "source": [
        "x = [3,7,2,9,10,18,7]\n",
        "max(x)"
      ],
      "metadata": {
        "colab": {
          "base_uri": "https://localhost:8080/"
        },
        "id": "JU_T3NSMNqaM",
        "outputId": "12bc68e6-4eff-4d10-9ba6-5787243d9e59"
      },
      "execution_count": 2,
      "outputs": [
        {
          "output_type": "execute_result",
          "data": {
            "text/plain": [
              "18"
            ]
          },
          "metadata": {},
          "execution_count": 2
        }
      ]
    },
    {
      "cell_type": "code",
      "source": [
        "def min(x):\n",
        "  y = x[0]\n",
        "  for i in x:\n",
        "    if i < y:\n",
        "      y = i\n",
        "  return y"
      ],
      "metadata": {
        "id": "3k4IeSU4Ny5I"
      },
      "execution_count": 4,
      "outputs": []
    },
    {
      "cell_type": "code",
      "source": [
        "x = [3,7,2,9,10,18,7]\n",
        "min(x)"
      ],
      "metadata": {
        "colab": {
          "base_uri": "https://localhost:8080/"
        },
        "id": "b3D5_2SlN2hq",
        "outputId": "84df0c57-e216-4052-d099-d6b7be370026"
      },
      "execution_count": 5,
      "outputs": [
        {
          "output_type": "execute_result",
          "data": {
            "text/plain": [
              "2"
            ]
          },
          "metadata": {},
          "execution_count": 5
        }
      ]
    },
    {
      "cell_type": "code",
      "source": [
        "def average(x):\n",
        "  y = 0\n",
        "  for i in x:\n",
        "    y += i\n",
        "  y = y/len(x)\n",
        "  return y"
      ],
      "metadata": {
        "id": "XZ_1XvnDN7bJ"
      },
      "execution_count": 6,
      "outputs": []
    },
    {
      "cell_type": "code",
      "source": [
        "x = [3,7,2,9,10,18,7]\n",
        "average(x)"
      ],
      "metadata": {
        "colab": {
          "base_uri": "https://localhost:8080/"
        },
        "id": "jQSra9RJOK3C",
        "outputId": "3446f6b6-f8c2-4475-e09a-4278081ad42d"
      },
      "execution_count": 7,
      "outputs": [
        {
          "output_type": "execute_result",
          "data": {
            "text/plain": [
              "8.0"
            ]
          },
          "metadata": {},
          "execution_count": 7
        }
      ]
    },
    {
      "cell_type": "code",
      "source": [
        "import numpy as np\n",
        "def std(x):\n",
        "  y = average(x)\n",
        "  z = 0\n",
        "  for i in x:\n",
        "    z += (i - y)**2\n",
        "  p = np.sqrt(z/len(x))\n",
        "  return p\n",
        "\n",
        "    "
      ],
      "metadata": {
        "id": "gNCvD1ZyOXAH"
      },
      "execution_count": 8,
      "outputs": []
    },
    {
      "cell_type": "code",
      "source": [
        "x = [3,7,2,9,10,18,7]\n",
        "std(x)\n"
      ],
      "metadata": {
        "colab": {
          "base_uri": "https://localhost:8080/"
        },
        "id": "P30X-R52P5ou",
        "outputId": "24c6d56a-b12b-416b-991f-ab09985c17da"
      },
      "execution_count": 9,
      "outputs": [
        {
          "output_type": "execute_result",
          "data": {
            "text/plain": [
              "4.898979485566356"
            ]
          },
          "metadata": {},
          "execution_count": 9
        }
      ]
    },
    {
      "cell_type": "code",
      "source": [
        "def geometric_average(x):\n",
        "  y = 1\n",
        "  for i in x:\n",
        "    y *= i\n",
        "  z = y**(1/len(x))\n",
        "  return z\n",
        "  "
      ],
      "metadata": {
        "id": "RW8xS1mBQGV-"
      },
      "execution_count": 15,
      "outputs": []
    },
    {
      "cell_type": "code",
      "source": [
        "x = [3,7,2,9,10,18,7]\n",
        "geometric_average(x)"
      ],
      "metadata": {
        "id": "jTsw770EQmHY",
        "outputId": "644b9bdf-5660-45b8-ca37-53a1d14405f4",
        "colab": {
          "base_uri": "https://localhost:8080/"
        }
      },
      "execution_count": 16,
      "outputs": [
        {
          "output_type": "execute_result",
          "data": {
            "text/plain": [
              "6.473262105048866"
            ]
          },
          "metadata": {},
          "execution_count": 16
        }
      ]
    }
  ]
}