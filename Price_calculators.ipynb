{
  "nbformat": 4,
  "nbformat_minor": 0,
  "metadata": {
    "colab": {
      "name": "Price calculators.ipynb",
      "provenance": [],
      "authorship_tag": "ABX9TyNryez1T0SGRpX7l0TGxyja",
      "include_colab_link": true
    },
    "kernelspec": {
      "name": "python3",
      "display_name": "Python 3"
    },
    "language_info": {
      "name": "python"
    }
  },
  "cells": [
    {
      "cell_type": "markdown",
      "metadata": {
        "id": "view-in-github",
        "colab_type": "text"
      },
      "source": [
        "<a href=\"https://colab.research.google.com/github/YeshayaG/MCON_141/blob/main/Price_calculators.ipynb\" target=\"_parent\"><img src=\"https://colab.research.google.com/assets/colab-badge.svg\" alt=\"Open In Colab\"/></a>"
      ]
    },
    {
      "cell_type": "markdown",
      "source": [
        "#Discount & Price Calculator"
      ],
      "metadata": {
        "id": "uOtFRmmd3cCd"
      }
    },
    {
      "cell_type": "markdown",
      "source": [
        "This calculator will tell you the amount of discount you will recieve on your purchase and the price of your purchase."
      ],
      "metadata": {
        "id": "K7iHNSv33o8K"
      }
    },
    {
      "cell_type": "code",
      "source": [
        "p = 99\n",
        "#p is the price of 1 package\n",
        "\n",
        "q = input(\"How many packages would you like to buy?\")\n",
        "#q is the quantity of packages you would like to purchase\n",
        "q = int(q)\n",
        "\n",
        "if q >= 10 and q < 20:\n",
        "  d = .10\n",
        "  #d represents the precent your purchase will be discounted by\n",
        "elif q >= 20 and q < 50:\n",
        "  d = .20\n",
        "elif q >= 50 and q < 100:\n",
        "  d = .30\n",
        "elif q >= 100:\n",
        "  d - .4\n",
        "else:\n",
        "  d = 0\n",
        "\n",
        "t = p*int(q)*(1-d)\n",
        "#t represents the total price of your purchase\n",
        "\n",
        "print(\"Your total is \",t,\" after a discount of \", d)"
      ],
      "metadata": {
        "colab": {
          "base_uri": "https://localhost:8080/"
        },
        "id": "m9fZlUfo3-xQ",
        "outputId": "8b23df51-847d-4135-faa2-559d83164385"
      },
      "execution_count": 5,
      "outputs": [
        {
          "output_type": "stream",
          "name": "stdout",
          "text": [
            "How many packages would you like to buy?40\n",
            "Your total is  3168.0  after a discount of  0.2\n"
          ]
        }
      ]
    },
    {
      "cell_type": "markdown",
      "source": [
        "# Shipping rate calculator"
      ],
      "metadata": {
        "id": "lqCAQL-f6sc3"
      }
    },
    {
      "cell_type": "markdown",
      "source": [
        "This calulator will determine your shipping charges, given your packages weight."
      ],
      "metadata": {
        "id": "VlcYjPf660YY"
      }
    },
    {
      "cell_type": "code",
      "source": [
        "w = input(\"What is the weight if your package?\")\n",
        "#w represents the weight of your package\n",
        "w = int(w)\n",
        "\n",
        "if w <= 2 and w > 0:\n",
        "  r = 1.50\n",
        "#r represents the rate per a pound\n",
        "elif w > 2 and w <= 6:\n",
        "  r = 3.\n",
        "elif w > 6 and w <= 10:\n",
        "  r = 4\n",
        "else:\n",
        "  r = 4.75\n",
        "\n",
        "p = w*r\n",
        "#p represents your shipping charges\n",
        "\n",
        "print(\"The shipping charges for your package is \", p)"
      ],
      "metadata": {
        "colab": {
          "base_uri": "https://localhost:8080/"
        },
        "id": "tkOwju_-7Kuf",
        "outputId": "0db2f7b8-cc73-4e59-b023-2d23c936dc60"
      },
      "execution_count": 7,
      "outputs": [
        {
          "output_type": "stream",
          "name": "stdout",
          "text": [
            "What is the weight if your package?54\n",
            "The shipping charges for your package is  256.5\n"
          ]
        }
      ]
    }
  ]
}