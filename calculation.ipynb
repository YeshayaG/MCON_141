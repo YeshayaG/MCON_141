{
  "nbformat": 4,
  "nbformat_minor": 0,
  "metadata": {
    "colab": {
      "name": "calculation.ipynb",
      "provenance": [],
      "authorship_tag": "ABX9TyN94ctf82aiG924k7fr9bq2",
      "include_colab_link": true
    },
    "kernelspec": {
      "name": "python3",
      "display_name": "Python 3"
    },
    "language_info": {
      "name": "python"
    }
  },
  "cells": [
    {
      "cell_type": "markdown",
      "metadata": {
        "id": "view-in-github",
        "colab_type": "text"
      },
      "source": [
        "<a href=\"https://colab.research.google.com/github/YeshayaG/MCON_141/blob/main/calculation.ipynb\" target=\"_parent\"><img src=\"https://colab.research.google.com/assets/colab-badge.svg\" alt=\"Open In Colab\"/></a>"
      ]
    },
    {
      "cell_type": "code",
      "execution_count": 1,
      "metadata": {
        "id": "S_OMqEmvbLuR"
      },
      "outputs": [],
      "source": [
        "#this function accept two variables and calculate the multiplication \n",
        "#and divison of it.\n",
        "def calcuation(x,y):\n",
        "  return x*y,x/y"
      ]
    },
    {
      "cell_type": "code",
      "source": [
        "calcuation(2,3)"
      ],
      "metadata": {
        "colab": {
          "base_uri": "https://localhost:8080/"
        },
        "id": "LpTwrnzhbhlo",
        "outputId": "967db655-dbda-499d-a509-8919658d076f"
      },
      "execution_count": 2,
      "outputs": [
        {
          "output_type": "execute_result",
          "data": {
            "text/plain": [
              "(6, 0.6666666666666666)"
            ]
          },
          "metadata": {},
          "execution_count": 2
        }
      ]
    }
  ]
}