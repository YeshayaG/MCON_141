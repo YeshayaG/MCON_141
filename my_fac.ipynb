{
  "nbformat": 4,
  "nbformat_minor": 0,
  "metadata": {
    "colab": {
      "name": "my_fac.ipynb",
      "provenance": [],
      "authorship_tag": "ABX9TyOMSg/9c39+aB5se5WBxAT+",
      "include_colab_link": true
    },
    "kernelspec": {
      "name": "python3",
      "display_name": "Python 3"
    },
    "language_info": {
      "name": "python"
    }
  },
  "cells": [
    {
      "cell_type": "markdown",
      "metadata": {
        "id": "view-in-github",
        "colab_type": "text"
      },
      "source": [
        "<a href=\"https://colab.research.google.com/github/YeshayaG/MCON_141/blob/main/my_fac.ipynb\" target=\"_parent\"><img src=\"https://colab.research.google.com/assets/colab-badge.svg\" alt=\"Open In Colab\"/></a>"
      ]
    },
    {
      "cell_type": "code",
      "execution_count": 1,
      "metadata": {
        "id": "ViCK1ei0DXD-"
      },
      "outputs": [],
      "source": [
        "#use this function to return the factorial of any positive number\n",
        "#greater than one\n",
        "def my_fac(x):\n",
        "  if x < 1:\n",
        "    print(\"enter a valid number\")\n",
        "  elif x == 1:\n",
        "    return 1\n",
        "  return x*my_fac(x-1)"
      ]
    },
    {
      "cell_type": "code",
      "source": [
        "my_fac(4)"
      ],
      "metadata": {
        "colab": {
          "base_uri": "https://localhost:8080/"
        },
        "id": "nRGZWFFwD_Sh",
        "outputId": "8c06481a-4137-4c30-848b-76f09cafbba5"
      },
      "execution_count": 4,
      "outputs": [
        {
          "output_type": "execute_result",
          "data": {
            "text/plain": [
              "24"
            ]
          },
          "metadata": {},
          "execution_count": 4
        }
      ]
    }
  ]
}