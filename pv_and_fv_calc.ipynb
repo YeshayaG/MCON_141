{
  "nbformat": 4,
  "nbformat_minor": 0,
  "metadata": {
    "colab": {
      "name": "pv and fv calc.ipynb",
      "provenance": [],
      "authorship_tag": "ABX9TyPDOmSvjbhEQT+sEAvdw6Oc",
      "include_colab_link": true
    },
    "kernelspec": {
      "name": "python3",
      "display_name": "Python 3"
    },
    "language_info": {
      "name": "python"
    }
  },
  "cells": [
    {
      "cell_type": "markdown",
      "metadata": {
        "id": "view-in-github",
        "colab_type": "text"
      },
      "source": [
        "<a href=\"https://colab.research.google.com/github/YeshayaG/MCON_141/blob/main/pv_and_fv_calc.ipynb\" target=\"_parent\"><img src=\"https://colab.research.google.com/assets/colab-badge.svg\" alt=\"Open In Colab\"/></a>"
      ]
    },
    {
      "cell_type": "markdown",
      "source": [
        "# Present value calculator\n"
      ],
      "metadata": {
        "id": "iXpstlcUvFky"
      }
    },
    {
      "cell_type": "markdown",
      "source": [
        "Use this calculator to see how much you would need to invest to attain some goal given the future value of your investment, the interest rate and how many years you invested your money for."
      ],
      "metadata": {
        "id": "XEWrQWFnyZD6"
      }
    },
    {
      "cell_type": "code",
      "source": [
        "\n",
        "fv = input(\"What is your future value?\")\n",
        "#fv is the future value of your investment\n",
        "i = input(\"What is your interest rate?\")\n",
        "#i is the interest rate for your investment\n",
        "t = input(\"How many years would you like to invest your money for?\")\n",
        "#t is the amount of years you would like to invest your money for\n",
        "\n",
        "pv = float(fv)/((1+float(i))**int(t))\n",
        "#pv is the present value of your investment. It shows how much you would need to invest to attain some goal. \n",
        "#You calculate your pv by dividing your fv by (1+i)**t\n",
        "\n",
        "print(\"Your present value is \",pv)\n"
      ],
      "metadata": {
        "colab": {
          "base_uri": "https://localhost:8080/"
        },
        "id": "V_eFJg-vva88",
        "outputId": "b2fe777f-edbf-4af3-d666-15f250c6037b"
      },
      "execution_count": 15,
      "outputs": [
        {
          "output_type": "stream",
          "name": "stdout",
          "text": [
            "What is your future value?105\n",
            "What is your interest rate?.05\n",
            "How many years would you like to invest your money for?1\n",
            "Your present value is  100.0\n"
          ]
        }
      ]
    },
    {
      "cell_type": "markdown",
      "source": [
        "# Future value calculator"
      ],
      "metadata": {
        "id": "o23DXJoKzRN6"
      }
    },
    {
      "cell_type": "markdown",
      "source": [
        "Use this calculator shows you how much your investment will grow to given an inital investment, an interest rate and how many years you would like to invest your money for."
      ],
      "metadata": {
        "id": "cbjhjTxjzZ61"
      }
    },
    {
      "cell_type": "code",
      "source": [
        "\n",
        "pv = input(\"What is your initial investment?\")\n",
        "#pv is the present value of your investment\n",
        "i = input(\"What is your interest rate?\")\n",
        "#i is the interest rate for your investment\n",
        "t = input(\"How many years would you like to invest your money for?\")\n",
        "#t is the amount of years you would like to invest your money for\n",
        "fv = float(pv)*((1+float(i))**int(t))\n",
        "#fv is the future value of your investment. It shows how much you initial investment will grow to.\n",
        "#fv is calulated by multiplying your pv by (1+i)**t\n",
        "\n",
        "print(\"Your future value is \",fv)"
      ],
      "metadata": {
        "colab": {
          "base_uri": "https://localhost:8080/"
        },
        "id": "_A3psv5b0Qho",
        "outputId": "dbd0cec4-846c-45a8-87ca-d8f0500cd6ae"
      },
      "execution_count": 14,
      "outputs": [
        {
          "output_type": "stream",
          "name": "stdout",
          "text": [
            "What is your initial investment?100\n",
            "What is your interest rate?.05\n",
            "How many years would you like to invest your money for?1\n",
            "Your future value is  105.0\n"
          ]
        }
      ]
    }
  ]
}