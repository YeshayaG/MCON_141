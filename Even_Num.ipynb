{
  "nbformat": 4,
  "nbformat_minor": 0,
  "metadata": {
    "colab": {
      "name": "Even Num.ipynb",
      "provenance": [],
      "authorship_tag": "ABX9TyPvqwScSw0Dw6Dyyo9afX3m",
      "include_colab_link": true
    },
    "kernelspec": {
      "name": "python3",
      "display_name": "Python 3"
    },
    "language_info": {
      "name": "python"
    }
  },
  "cells": [
    {
      "cell_type": "markdown",
      "metadata": {
        "id": "view-in-github",
        "colab_type": "text"
      },
      "source": [
        "<a href=\"https://colab.research.google.com/github/YeshayaG/MCON_141/blob/main/Even_Num.ipynb\" target=\"_parent\"><img src=\"https://colab.research.google.com/assets/colab-badge.svg\" alt=\"Open In Colab\"/></a>"
      ]
    },
    {
      "cell_type": "code",
      "execution_count": 9,
      "metadata": {
        "colab": {
          "base_uri": "https://localhost:8080/"
        },
        "id": "EUyLr-5m8Prq",
        "outputId": "47e8718f-9e88-42a3-88f5-8e349ff1453e"
      },
      "outputs": [
        {
          "output_type": "stream",
          "name": "stdout",
          "text": [
            "100 , 98 , 96 , 94 , 92 , 90 , 88 , 86 , 84 , 82 , 80 , 78 , 76 , 74 , 72 , 70 , 68 , 66 , 64 , 62 , 60 , 58 , 56 , 54 , 52 , 50 , 48 , 46 , 44 , 42 , 40 , 38 , 36 , 34 , 32 , 30 , 28 , 26 , 24 , 22 , 20 , 18 , 16 , 14 , 12 , 10 , 8 , 6 , 4 , 2 , \n"
          ]
        }
      ],
      "source": [
        "x = 100\n",
        "string = \"\"\n",
        "while x > 0:\n",
        "    if x % 2 == 0:\n",
        "        string = string + str(x) + \" , \"\n",
        "    x-=1\n",
        "print(string)\n"
      ]
    }
  ]
}