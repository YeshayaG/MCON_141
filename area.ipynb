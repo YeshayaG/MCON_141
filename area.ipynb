{
  "nbformat": 4,
  "nbformat_minor": 0,
  "metadata": {
    "colab": {
      "name": "area.ipynb",
      "provenance": [],
      "authorship_tag": "ABX9TyPbuaTeAYgA/ukv1ayGrRR6",
      "include_colab_link": true
    },
    "kernelspec": {
      "name": "python3",
      "display_name": "Python 3"
    },
    "language_info": {
      "name": "python"
    }
  },
  "cells": [
    {
      "cell_type": "markdown",
      "metadata": {
        "id": "view-in-github",
        "colab_type": "text"
      },
      "source": [
        "<a href=\"https://colab.research.google.com/github/YeshayaG/MCON_141/blob/main/area.ipynb\" target=\"_parent\"><img src=\"https://colab.research.google.com/assets/colab-badge.svg\" alt=\"Open In Colab\"/></a>"
      ]
    },
    {
      "cell_type": "code",
      "execution_count": 10,
      "metadata": {
        "id": "JZ-tdFsORVZS"
      },
      "outputs": [],
      "source": [
        "import math \n",
        "def area():\n",
        "  shape =input(\"Enter shape\")\n",
        "  if shape == \"square\":\n",
        "    print(square())\n",
        "  elif shape == \"triangle\":\n",
        "    print(triangle())\n",
        "  elif shape == \"circle\":\n",
        "    print(circle())\n",
        "  else:\n",
        "    print(\"enter a valid shape\")\n",
        "\n",
        "def square():\n",
        "  y = float(input(\"what is the legth of a side of your square\"))\n",
        "  return y**2\n",
        "\n",
        "def triangle():\n",
        "  h = float(input(\"what is the hight of your triangle\"))\n",
        "  b = float(input(\"what is the base of your triangle\"))\n",
        "  return .5*b*h\n",
        "\n",
        "def circle():\n",
        "  r = float(input(\"what is the radius of your circle\"))\n",
        "  return math.pi*r**2\n",
        "\n"
      ]
    },
    {
      "cell_type": "code",
      "source": [
        "area()"
      ],
      "metadata": {
        "colab": {
          "base_uri": "https://localhost:8080/"
        },
        "id": "0wij7xE-TOe5",
        "outputId": "54f7f7c5-6778-4465-b32e-b6de5d3be6ea"
      },
      "execution_count": 14,
      "outputs": [
        {
          "output_type": "stream",
          "name": "stdout",
          "text": [
            "Enter shapesquare\n",
            "what is the legth of a side of your square4\n",
            "16.0\n"
          ]
        }
      ]
    }
  ]
}