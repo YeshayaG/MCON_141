{
  "nbformat": 4,
  "nbformat_minor": 0,
  "metadata": {
    "colab": {
      "name": "Name&Age.ipynb",
      "provenance": [],
      "authorship_tag": "ABX9TyPB1oMcV8cu1Bvi995PW7Hv",
      "include_colab_link": true
    },
    "kernelspec": {
      "name": "python3",
      "display_name": "Python 3"
    },
    "language_info": {
      "name": "python"
    }
  },
  "cells": [
    {
      "cell_type": "markdown",
      "metadata": {
        "id": "view-in-github",
        "colab_type": "text"
      },
      "source": [
        "<a href=\"https://colab.research.google.com/github/YeshayaG/MCON_141/blob/main/Name%26Age.ipynb\" target=\"_parent\"><img src=\"https://colab.research.google.com/assets/colab-badge.svg\" alt=\"Open In Colab\"/></a>"
      ]
    },
    {
      "cell_type": "code",
      "execution_count": 14,
      "metadata": {
        "colab": {
          "base_uri": "https://localhost:8080/"
        },
        "id": "nk7Y3beKRXTT",
        "outputId": "bfea2db7-939b-4afc-f085-907a53243a9b"
      },
      "outputs": [
        {
          "output_type": "stream",
          "name": "stdout",
          "text": [
            "What is your name?shaya\n",
            "What is your age?23\n",
            "Acceptable\n"
          ]
        }
      ],
      "source": [
        "x = 0\n",
        "while x < 3:\n",
        "#We are giving the user 3 tries to get it right\n",
        "  n = input(\"What is your name?\")\n",
        "  if n.isalpha() == True:\n",
        "#isalpha returns True if all the characters are alphabet letters (a-z)\n",
        "    a = input(\"What is your age?\")\n",
        "    if a.isalpha() == False:\n",
        "#isalpha() returning False makes sure the user doesnt input a letter\n",
        "      a = int(a)\n",
        "      if a >=0 and a <= 100:\n",
        "        print(\"Acceptable\")\n",
        "        break\n",
        "  x +=1\n",
        "  if x == 3:\n",
        "    print(\"Unacceptable\")\n",
        "      \n",
        "\n",
        "  \n"
      ]
    }
  ]
}