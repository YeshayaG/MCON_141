{
  "nbformat": 4,
  "nbformat_minor": 0,
  "metadata": {
    "colab": {
      "name": "Name&Age.ipynb",
      "provenance": [],
      "authorship_tag": "ABX9TyM68dO1AVa3gvISvLpnm5bT",
      "include_colab_link": true
    },
    "kernelspec": {
      "name": "python3",
      "display_name": "Python 3"
    },
    "language_info": {
      "name": "python"
    }
  },
  "cells": [
    {
      "cell_type": "markdown",
      "metadata": {
        "id": "view-in-github",
        "colab_type": "text"
      },
      "source": [
        "<a href=\"https://colab.research.google.com/github/YeshayaG/MCON_141/blob/main/Name%26Age.ipynb\" target=\"_parent\"><img src=\"https://colab.research.google.com/assets/colab-badge.svg\" alt=\"Open In Colab\"/></a>"
      ]
    },
    {
      "cell_type": "code",
      "execution_count": 8,
      "metadata": {
        "colab": {
          "base_uri": "https://localhost:8080/"
        },
        "id": "nk7Y3beKRXTT",
        "outputId": "6c2c9d9a-74c3-4580-8dd7-63339d5a7617"
      },
      "outputs": [
        {
          "output_type": "stream",
          "name": "stdout",
          "text": [
            "What is your name?Shaya\n",
            "What is your age?23\n",
            "Acceptable\n"
          ]
        }
      ],
      "source": [
        "\n",
        "x = 0\n",
        "while x < 3:\n",
        "  n = input(\"What is your name?\")\n",
        "  if n.isalpha() == True:\n",
        "    a = input(\"What is your age?\")\n",
        "    if a.isalpha() == False:\n",
        "      a = int(a)\n",
        "      if a >=0 and a <= 100:\n",
        "        print(\"Acceptable\")\n",
        "        break\n",
        "  x +=1\n",
        "  if x == 3:\n",
        "    print(\"Unacceptable\")\n",
        "      \n",
        "\n",
        "  \n"
      ]
    }
  ]
}