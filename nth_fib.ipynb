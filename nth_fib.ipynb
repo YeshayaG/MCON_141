{
  "nbformat": 4,
  "nbformat_minor": 0,
  "metadata": {
    "colab": {
      "name": "nth_fib.ipynb",
      "provenance": [],
      "authorship_tag": "ABX9TyPyz5+7K929KQLjfbdrXg3Y",
      "include_colab_link": true
    },
    "kernelspec": {
      "name": "python3",
      "display_name": "Python 3"
    },
    "language_info": {
      "name": "python"
    }
  },
  "cells": [
    {
      "cell_type": "markdown",
      "metadata": {
        "id": "view-in-github",
        "colab_type": "text"
      },
      "source": [
        "<a href=\"https://colab.research.google.com/github/YeshayaG/MCON_141/blob/main/nth_fib.ipynb\" target=\"_parent\"><img src=\"https://colab.research.google.com/assets/colab-badge.svg\" alt=\"Open In Colab\"/></a>"
      ]
    },
    {
      "cell_type": "code",
      "execution_count": 2,
      "metadata": {
        "id": "v82CtLLpBxwR"
      },
      "outputs": [],
      "source": [
        "#use this function to find the nth fibonacci number\n",
        "def nth_fib(n):\n",
        "  x = [1,1]\n",
        "  if n == 1 or n == 2:\n",
        "    return 1\n",
        "  for i in range(3,n+1):\n",
        "    x.append(x[-1]+x[-2])\n",
        "  return x[-1]"
      ]
    },
    {
      "cell_type": "code",
      "source": [
        "nth_fib(30)"
      ],
      "metadata": {
        "colab": {
          "base_uri": "https://localhost:8080/"
        },
        "id": "7x-zX5DwCybt",
        "outputId": "76ee4e56-409e-4add-efa8-1bec6ce5ac81"
      },
      "execution_count": 3,
      "outputs": [
        {
          "output_type": "execute_result",
          "data": {
            "text/plain": [
              "832040"
            ]
          },
          "metadata": {},
          "execution_count": 3
        }
      ]
    }
  ]
}