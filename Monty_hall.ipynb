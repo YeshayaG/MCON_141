{
  "nbformat": 4,
  "nbformat_minor": 0,
  "metadata": {
    "colab": {
      "name": "Monty_hall.ipynb",
      "provenance": [],
      "authorship_tag": "ABX9TyNWlAldqK6po3avTR0CjVxH",
      "include_colab_link": true
    },
    "kernelspec": {
      "name": "python3",
      "display_name": "Python 3"
    },
    "language_info": {
      "name": "python"
    }
  },
  "cells": [
    {
      "cell_type": "markdown",
      "metadata": {
        "id": "view-in-github",
        "colab_type": "text"
      },
      "source": [
        "<a href=\"https://colab.research.google.com/github/YeshayaG/MCON_141/blob/main/Monty_hall.ipynb\" target=\"_parent\"><img src=\"https://colab.research.google.com/assets/colab-badge.svg\" alt=\"Open In Colab\"/></a>"
      ]
    },
    {
      "cell_type": "code",
      "execution_count": 7,
      "metadata": {
        "id": "pheeouZHJ3zd"
      },
      "outputs": [],
      "source": [
        "#this function will output the prob of the monty hall problem\n",
        "import numpy as np\n",
        "def monty_hall():\n",
        "  wins = 0\n",
        "  for i in range (1000000):\n",
        "    car = np.random.randint(0,high=3)\n",
        "    choice = np.random.randint(0,high=3)\n",
        "    if car != choice:\n",
        "      wins += 1\n",
        "  print(\"the prob of winning is \" + str(wins/1000000))\n"
      ]
    },
    {
      "cell_type": "code",
      "source": [
        "monty_hall()"
      ],
      "metadata": {
        "colab": {
          "base_uri": "https://localhost:8080/"
        },
        "id": "o0xwHPFjK46s",
        "outputId": "5e7ef997-b367-424c-ccc4-46437ec48624"
      },
      "execution_count": 8,
      "outputs": [
        {
          "output_type": "stream",
          "name": "stdout",
          "text": [
            "the prob of winning is 0.666774\n"
          ]
        }
      ]
    }
  ]
}