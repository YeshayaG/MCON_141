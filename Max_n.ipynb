{
  "nbformat": 4,
  "nbformat_minor": 0,
  "metadata": {
    "colab": {
      "name": "Max_n.ipynb",
      "provenance": [],
      "authorship_tag": "ABX9TyPVQF8+AVUKEqBwNcHhK0RV",
      "include_colab_link": true
    },
    "kernelspec": {
      "name": "python3",
      "display_name": "Python 3"
    },
    "language_info": {
      "name": "python"
    }
  },
  "cells": [
    {
      "cell_type": "markdown",
      "metadata": {
        "id": "view-in-github",
        "colab_type": "text"
      },
      "source": [
        "<a href=\"https://colab.research.google.com/github/YeshayaG/MCON_141/blob/main/Max_n.ipynb\" target=\"_parent\"><img src=\"https://colab.research.google.com/assets/colab-badge.svg\" alt=\"Open In Colab\"/></a>"
      ]
    },
    {
      "cell_type": "code",
      "source": [
        "#input an list for x and an interger n\n",
        "def max_n(x,n):\n",
        "  x.sort(reverse=True)\n",
        "  print(x[0:n])"
      ],
      "metadata": {
        "id": "i01pgbESagbt"
      },
      "execution_count": 1,
      "outputs": []
    },
    {
      "cell_type": "code",
      "source": [
        "x = [1,5,2,4,2,2,50,7,2,4,6,7,9,20,21,23,25]\n",
        "max_n(x,5)"
      ],
      "metadata": {
        "colab": {
          "base_uri": "https://localhost:8080/"
        },
        "id": "0ZBK78tt8WS_",
        "outputId": "84e92d4e-f8f5-43b9-df41-a2b49ce7055a"
      },
      "execution_count": 2,
      "outputs": [
        {
          "output_type": "stream",
          "name": "stdout",
          "text": [
            "[50, 25, 23, 21, 20]\n"
          ]
        }
      ]
    }
  ]
}